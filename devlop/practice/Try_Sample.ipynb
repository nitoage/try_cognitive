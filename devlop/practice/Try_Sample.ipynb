{
 "cells": [
  {
   "cell_type": "markdown",
   "metadata": {
    "collapsed": true
   },
   "source": [
    "### こちらのプログラムを使用するにはMicrosoftCognitiveサービスに登録して\n",
    "### APIのKeyを発行する必要があります。\n",
    "########### Python 2.7用 #############"
   ]
  },
  {
   "cell_type": "code",
   "execution_count": 1,
   "metadata": {
    "collapsed": true
   },
   "outputs": [],
   "source": [
    "#!/usr/bin/env python\n",
    "# -*- coding: utf-8 -*-\n",
    "\n",
    "import httplib\n",
    "import urllib\n",
    "import urlparse\n",
    "import traceback\n",
    "import base64\n",
    "import json\n",
    "import cv2\n",
    "import ConfigParser"
   ]
  },
  {
   "cell_type": "code",
   "execution_count": 2,
   "metadata": {
    "collapsed": false
   },
   "outputs": [],
   "source": [
    "# コンフィグファイルの読み込み　個人設定\n",
    "# api\n",
    "inifile = ConfigParser.SafeConfigParser()\n",
    "inifile.read('./config.ini')\n",
    "\n",
    "try:\n",
    "    proxy_url = inifile.get('private', 'proxy_url')\n",
    "except:\n",
    "    proxy_url = ''\n",
    "finally:\n",
    "    api_key = inifile.get('private', 'api_key')"
   ]
  },
  {
   "cell_type": "code",
   "execution_count": 3,
   "metadata": {
    "collapsed": false
   },
   "outputs": [],
   "source": [
    "# 画像ファイルパスまたは\n",
    "def analysis_image(image_path, isImageUrl):\n",
    "    if isImageUrl:\n",
    "        content_type='application/json'\n",
    "        body = \"\"\"{'url': '%s'}\"\"\" % (image_path)\n",
    "    else:\n",
    "        content_type='application/octet-stream'\n",
    "        body = open(image_path, 'rb').read()\n",
    "\n",
    "    host_headers = {\n",
    "        # Request headers\n",
    "        'Content-Type': content_type,\n",
    "        # My Acount API Key\n",
    "        'Ocp-Apim-Subscription-Key': api_key,\n",
    "    }\n",
    "\n",
    "    params = urllib.urlencode({\n",
    "        # Request parameters\n",
    "        'visualFeatures': 'Description',\n",
    "        # 'visualFeatures': 'Categories,Tags, Description, Faces, ImageType, Color, Adult',\n",
    "        # 'details': 'Celebrities'\n",
    "        'language': 'en',\n",
    "    })\n",
    "\n",
    "    try:\n",
    "        if proxy_url:\n",
    "            url = urlparse.urlparse(proxy_url)\n",
    "            conn = httplib.HTTPSConnection(url.hostname, url.port)\n",
    "            tunnel_headers = {}\n",
    "            if url.username and url.password:\n",
    "                auth = '%s:%s' % (url.username, url.password)\n",
    "                tunnel_headers['Proxy-Authorization'] = 'Basic ' + base64.b64encode(auth)\n",
    "            conn.set_tunnel('api.projectoxford.ai', 443, tunnel_headers)\n",
    "        else:\n",
    "            conn = http.client.HTTPSConnection('api.projectoxford.ai') \n",
    "        conn.request(\"POST\", \"/vision/v1.0/analyze?%s\" % params, body, host_headers)\n",
    "\n",
    "        response = conn.getresponse()\n",
    "        data = response.read()\n",
    "        print(data)\n",
    "        conn.close()\n",
    "\n",
    "    except Exception:\n",
    "        print traceback.format_exc()"
   ]
  },
  {
   "cell_type": "code",
   "execution_count": 4,
   "metadata": {
    "collapsed": true
   },
   "outputs": [],
   "source": [
    " def response_analysis(response):\n",
    "    # レスポンスデータを加工する。以下は例　#\n",
    "    for json in response:\n",
    "        json_data=json\n",
    "        #encode_json_data = json.dumps(json_data)\n",
    "        #print encode_json_data('tags')\n",
    "        tags=json_data['description']['tags']\n",
    "        print tags\n",
    "        if 'rain' in tags:\n",
    "            if 'road' in tags:\n",
    "                if 'car' in tags:\n",
    "                    print '雨の中、道に車がいます。'\n",
    "                elif 'man' in tags:\n",
    "                    print '雨の中、道に男性がいます。'\n",
    "                elif 'woman' in tags:\n",
    "                    print '雨の中、道に女性がいます。'\n",
    "        elif 'snow' in tags:\n",
    "            print test\n",
    "        elif 'sunny' in tags:\n",
    "            print test"
   ]
  },
  {
   "cell_type": "code",
   "execution_count": 5,
   "metadata": {
    "collapsed": false
   },
   "outputs": [
    {
     "name": "stdout",
     "output_type": "stream",
     "text": [
      "['road', 'outdoor', 'building', 'truck', 'scene', 'street', 'car', 'driving', 'intersection', 'traffic', 'sign', 'large', 'white', 'city', 'parked', 'man', 'highway', 'bus', 'standing', 'riding', 'blue']\n",
      "['sitting', 'white', 'large', 'street', 'blurry']\n",
      "['light', 'blurry', 'night', 'street', 'view', 'train', 'driving', 'traffic', 'road', 'track', 'stop', 'bus', 'city', 'mirror', 'riding']\n"
     ]
    }
   ],
   "source": [
    "image_paths = ['img/03.jpg']\n",
    "\n",
    "# API　CALL\n",
    "# for image_path in image_paths:\n",
    "#     json_data = analysis_image(image_path, False)\n",
    "\n",
    "# dummy contents\n",
    "fst={\"description\":{\"tags\":[\"road\",\"outdoor\",\"building\",\"truck\",\"scene\",\"street\",\"car\",\"driving\",\"intersection\",\"traffic\",\"sign\",\"large\",\"white\",\"city\",\"parked\",\"man\",\"highway\",\"bus\",\"standing\",\"riding\",\"blue\"],\"captions\":[{\"text\":\"a white truck driving down a street\",\"confidence\":0.30517881413220727}]},\"requestId\":\"237818cd-5f6d-4007-9d20-205c4df92db4\",\"metadata\":{\"width\":1280,\"height\":720,\"format\":\"Jpeg\"}}\n",
    "sec={\"description\":{\"tags\":[\"sitting\",\"white\",\"large\",\"street\",\"blurry\"],\"captions\":[{\"text\":\"a blurry picture\",\"confidence\":0.48003831529436375}]},\"requestId\":\"6c7f97db-8693-4b25-919c-99cf6cb56aaa\",\"metadata\":{\"width\":320,\"height\":240,\"format\":\"Jpeg\"}}\n",
    "tha={\"description\":{\"tags\":[\"light\",\"blurry\",\"night\",\"street\",\"view\",\"train\",\"driving\",\"traffic\",\"road\",\"track\",\"stop\",\"bus\",\"city\",\"mirror\",\"riding\"],\"captions\":[{\"text\":\"a blurry picture of a train\",\"confidence\":0.62334939307872683}]},\"requestId\":\"46312b96-3958-4cb8-b340-fc4553690999\",\"metadata\":{\"width\":852,\"height\":480,\"format\":\"Jpeg\"}}\n",
    "response=[fst,sec,tha]\n",
    "\n",
    "# response data analysis\n",
    "response_analysis(response)\n"
   ]
  },
  {
   "cell_type": "markdown",
   "metadata": {
    "collapsed": true
   },
   "source": [
    "# Python 3.2 #############\n",
    "import http.client, urllib.request, urllib.parse, urllib.error, base64\n",
    "\n",
    "headers = {\n",
    "    # Request headers\n",
    "    'Content-Type': 'application/json',\n",
    "    'Ocp-Apim-Subscription-Key': '{subscription key}',\n",
    "}\n",
    "\n",
    "params = urllib.parse.urlencode({\n",
    "    # Request parameters\n",
    "    'visualFeatures': 'Categories',\n",
    "    'details': '{string}',\n",
    "    'language': 'en',\n",
    "})\n",
    "\n",
    "try:\n",
    "    conn = http.client.HTTPSConnection('api.projectoxford.ai')\n",
    "    conn.request(\"POST\", \"/vision/v1.0/analyze?%s\" % params, \"{body}\", headers)\n",
    "    response = conn.getresponse()\n",
    "    data = response.read()\n",
    "    print(data)\n",
    "    conn.close()\n",
    "except Exception as e:\n",
    "    print(\"[Errno {0}] {1}\".format(e.errno, e.strerror))\n",
    "\n",
    "####################################"
   ]
  }
 ],
 "metadata": {
  "kernelspec": {
   "display_name": "Python 2",
   "language": "python",
   "name": "python2"
  },
  "language_info": {
   "codemirror_mode": {
    "name": "ipython",
    "version": 2
   },
   "file_extension": ".py",
   "mimetype": "text/x-python",
   "name": "python",
   "nbconvert_exporter": "python",
   "pygments_lexer": "ipython2",
   "version": "2.7.9"
  }
 },
 "nbformat": 4,
 "nbformat_minor": 0
}
